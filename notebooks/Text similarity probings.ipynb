{
 "cells": [
  {
   "cell_type": "markdown",
   "metadata": {},
   "source": [
    "## Text similarity probings"
   ]
  },
  {
   "cell_type": "code",
   "execution_count": 1,
   "metadata": {},
   "outputs": [],
   "source": [
    "%load_ext autoreload\n",
    "%autoreload 2"
   ]
  },
  {
   "cell_type": "code",
   "execution_count": 2,
   "metadata": {},
   "outputs": [],
   "source": [
    "from tqdm import tqdm\n",
    "import numpy, pandas\n",
    "\n",
    "import pathlib\n",
    "import sys\n",
    "\n",
    "WD = str(pathlib.Path().absolute()) + '/'\n",
    "PROJECT_FOLDER = WD + '../'\n",
    "PROBINGS_FOLDER = PROJECT_FOLDER + 'probings/'\n",
    "DATA_FOLDER = PROJECT_FOLDER + 'data/'\n",
    "\n",
    "sys.path.append(PROBINGS_FOLDER)"
   ]
  },
  {
   "cell_type": "code",
   "execution_count": 3,
   "metadata": {},
   "outputs": [],
   "source": [
    "DATA_FOLDER = WD + '../data/'\n",
    "\n",
    "input_texts = list([\n",
    "    DATA_FOLDER + 'rte/val.jsonl',\n",
    "    DATA_FOLDER + 'axb/val.jsonl',\n",
    "    DATA_FOLDER + 'axg/val.jsonl',\n",
    "    DATA_FOLDER + 'mnli/val.jsonl',\n",
    "])"
   ]
  },
  {
   "cell_type": "code",
   "execution_count": 4,
   "metadata": {},
   "outputs": [
    {
     "name": "stderr",
     "output_type": "stream",
     "text": [
      "100%|██████████| 4/4 [00:01<00:00,  2.82it/s]\n"
     ]
    }
   ],
   "source": [
    "inputs, similarities = list(), list()\n",
    "for dataset in tqdm(input_texts):\n",
    "    data = pandas.read_json(dataset, lines=True)\n",
    "    data = data.drop('idx', axis='columns')\n",
    "    data = data['premise'].values.tolist()\n",
    "\n",
    "    inputs.append(data)\n",
    "    dataset_name = dataset.split('/data/')[1].split('/')[0]\n",
    "    similarities.append(numpy.load(DATA_FOLDER + 'probings/' + dataset_name + '_pairwise_similarities.dat', allow_pickle=True))"
   ]
  },
  {
   "cell_type": "markdown",
   "metadata": {},
   "source": [
    "## Visualization"
   ]
  },
  {
   "cell_type": "code",
   "execution_count": 6,
   "metadata": {},
   "outputs": [],
   "source": [
    "import pandas\n",
    "\n",
    "from bokeh.io import output_file, output_notebook, show, export_png\n",
    "from bokeh.models import BasicTicker, ColorBar, ColumnDataSource, LinearColorMapper, PrintfTickFormatter\n",
    "from bokeh.plotting import figure\n",
    "from bokeh.sampledata.unemployment1948 import data\n",
    "from bokeh.transform import transform\n",
    "\n",
    "import geckodriver_autoinstaller\n",
    "\n",
    "# palettes\n",
    "from bokeh.palettes import RdBu11\n",
    "\n",
    "\n",
    "def similarity_heatmap(premises, data, dataset_name, colors=RdBu11, out_file=None):\n",
    "    mapper = LinearColorMapper(palette=colors, low=-1, high=+1)\n",
    "    \n",
    "    vals = list()\n",
    "    for i in range(len(inp)):\n",
    "        for j in range(i + 1, len(inp)):\n",
    "            vals.append((str(i), str(j), sim[i, j], i, j))\n",
    "    data = pandas.DataFrame(vals, columns=['x', 'y', 'val', 'x_int', 'y_int']).sort_values(by=['x_int', 'y_int'])\n",
    "    data = data.pivot(index='x', columns='y', values='val')\n",
    "    data.columns.name = 'y'\n",
    "    df = pandas.DataFrame(data.stack(), columns=['val']).reset_index()\n",
    "    source = ColumnDataSource(df)\n",
    "    \n",
    "    x_index = [str(el) for el in sorted([int(x) for x in list(data.index)])]\n",
    "    y_index = [str(el) for el in sorted([int(y) for y in list(reversed(data.columns))])]\n",
    "    \n",
    "    p = figure(plot_width=1080, plot_height=1080, title='Pairwise premise similarity on ' + dataset_name,\n",
    "               x_range=x_index, y_range=y_index)\n",
    "    p.rect('x', 'y', width=1, height=1, source=source, line_color=None, fill_color={'field': 'val', 'transform':mapper})\n",
    "    \n",
    "    color_bar = ColorBar(color_mapper=mapper, location=(0, 0))\n",
    "    p.add_layout(color_bar, 'right')\n",
    "    p.axis.major_label_text_font_size = \"10px\"\n",
    "\n",
    "    export_png(p, filename=out_file)\n",
    "    #output_notebook()\n",
    "    #show(p)"
   ]
  },
  {
   "cell_type": "code",
   "execution_count": 7,
   "metadata": {
    "scrolled": false
   },
   "outputs": [],
   "source": [
    "for inp, sim, dataset in zip(inputs[:-1], similarities[:-1], ['rte', 'axb', 'axg', 'mnli'][:-1]):\n",
    "    similarity_heatmap(inp, sim, dataset, out_file=dataset + '_pairwise_similarities.png')    "
   ]
  }
 ],
 "metadata": {
  "kernelspec": {
   "display_name": "Python 3",
   "language": "python",
   "name": "python3"
  },
  "language_info": {
   "codemirror_mode": {
    "name": "ipython",
    "version": 3
   },
   "file_extension": ".py",
   "mimetype": "text/x-python",
   "name": "python",
   "nbconvert_exporter": "python",
   "pygments_lexer": "ipython3",
   "version": "3.9.2"
  }
 },
 "nbformat": 4,
 "nbformat_minor": 4
}
