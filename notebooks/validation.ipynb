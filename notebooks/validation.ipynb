{
 "cells": [
  {
   "cell_type": "markdown",
   "metadata": {},
   "source": [
    "# TripleX"
   ]
  },
  {
   "cell_type": "code",
   "execution_count": null,
   "metadata": {},
   "outputs": [],
   "source": [
    "%load_ext autoreload\n",
    "%autoreload 2"
   ]
  },
  {
   "cell_type": "code",
   "execution_count": null,
   "metadata": {},
   "outputs": [],
   "source": [
    "import sys\n",
    "import pathlib\n",
    "\n",
    "WD = str(pathlib.Path().absolute()) + '/'\n",
    "DATA_DIR = WD + '../data/'\n",
    "EXPLANATIONS_DIR = DATA_DIR + 'explanations/'\n",
    "\n",
    "sys.path.append(WD + '../')\n",
    "\n",
    "from dfas import DFAH\n",
    "\n",
    "import json\n",
    "from typing import List"
   ]
  },
  {
   "cell_type": "markdown",
   "metadata": {},
   "source": [
    "## Validation functions"
   ]
  },
  {
   "cell_type": "code",
   "execution_count": null,
   "metadata": {},
   "outputs": [],
   "source": [
    "def dfa_complexity(dfa: DFAH) -> float:\n",
    "    nr_states = len(dfa.states)\n",
    "    nr_transitions = len(dfa.transitions)\n",
    "    nr_perturbations = len(dfa.perturbations)\n",
    "    \n",
    "    complexity = nr_states + nr_transitions + nr_perturbations\n",
    "    \n",
    "    return complexity"
   ]
  },
  {
   "cell_type": "markdown",
   "metadata": {},
   "source": [
    "## Utility functions"
   ]
  },
  {
   "cell_type": "code",
   "execution_count": null,
   "metadata": {},
   "outputs": [],
   "source": [
    "def load_explanations(path_to_explanations) -> List[dict]:\n",
    "    explanations = list()\n",
    "    with open(path_to_explanations, 'r') as log:\n",
    "        for line in log.readlines():\n",
    "            full_explanation = json.loads(line)\n",
    "            text = full_explanation['premise']\n",
    "            sample_explanations = list()\n",
    "            for e in full_explanation['explanations']:\n",
    "                sample_explanations.append(DFAH([(str(s), str(p), str(o)) for [s, p, o] in e['triples']],\n",
    "                                                text=text, perturbations=e.get('perturbations', dict()),\n",
    "                                                alignment_weights=e.get('alignment_weights', None)))\n",
    "            full_explanation['explanations'] = sample_explanations\n",
    "            explanations.append(full_explanation)\n",
    "    \n",
    "    return explanations\n",
    "\n",
    "def pretty_print_explanations(explanations, hypotheses=None, k=1):\n",
    "    for i, e in enumerate(explanations):\n",
    "        print('- ' + str(i) + '--------------------------------')\n",
    "        print('- Premise:\\n' + e['premise'])\n",
    "        print(hypotheses[i])\n",
    "        if hypotheses is not None:\n",
    "            print(hypotheses[i])\n",
    "        print('- Explanations:\\n')\n",
    "        for dfa in e['explanations'][:k]:\n",
    "            print(dfa)\n",
    "        print('##################################')"
   ]
  },
  {
   "cell_type": "markdown",
   "metadata": {},
   "source": [
    "## Pre-computed explanations"
   ]
  },
  {
   "cell_type": "code",
   "execution_count": null,
   "metadata": {},
   "outputs": [],
   "source": [
    "rte_explanations = EXPLANATIONS_DIR + 'rte.triplex.jsonl'\n",
    "mnli_explanations = EXPLANATIONS_DIR + 'mnli.triplex.jsonl'\n",
    "axb_explanations = EXPLANATIONS_DIR + 'axb.triplex.jsonl'\n",
    "axg_explanations = EXPLANATIONS_DIR + 'axg.triplex.jsonl'\n",
    "\n",
    "rte_explanations = load_explanations(rte_explanations)\n",
    "mnli_explanations = load_explanations(mnli_explanations)\n",
    "axb_explanations = load_explanations(axb_explanations)\n",
    "axg_explanations = load_explanations(axg_explanations)"
   ]
  },
  {
   "cell_type": "code",
   "execution_count": null,
   "metadata": {},
   "outputs": [],
   "source": [
    "pretty_print_explanations(rte_explanations)"
   ]
  }
 ],
 "metadata": {
  "kernelspec": {
   "display_name": "Python 3",
   "language": "python",
   "name": "python3"
  },
  "language_info": {
   "codemirror_mode": {
    "name": "ipython",
    "version": 3
   },
   "file_extension": ".py",
   "mimetype": "text/x-python",
   "name": "python",
   "nbconvert_exporter": "python",
   "pygments_lexer": "ipython3",
   "version": "3.9.2"
  }
 },
 "nbformat": 4,
 "nbformat_minor": 4
}
